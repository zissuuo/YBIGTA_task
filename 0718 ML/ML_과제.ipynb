{
  "nbformat": 4,
  "nbformat_minor": 0,
  "metadata": {
    "colab": {
      "provenance": [],
      "collapsed_sections": [
        "sNIFkzlyyVDE",
        "8gyqEdovyZhy",
        "AnX-TM0e0CcT",
        "2KXIJ2Y62Q_6",
        "O5oG3_VN2L1e",
        "OdvvbDtY2mst"
      ]
    },
    "kernelspec": {
      "name": "python3",
      "display_name": "Python 3"
    },
    "language_info": {
      "name": "python"
    }
  },
  "cells": [
    {
      "cell_type": "markdown",
      "source": [
        "실습에 해당하는 내용은 책 \"혼자 공부하는 머신러닝+딥러닝\"을 참고해서 작성했습니다."
      ],
      "metadata": {
        "id": "h3aU99NZ5guB"
      }
    },
    {
      "cell_type": "markdown",
      "source": [
        "# Ensemble"
      ],
      "metadata": {
        "id": "AnX-TM0e0CcT"
      }
    },
    {
      "cell_type": "code",
      "execution_count": null,
      "metadata": {
        "id": "22LQY7-xs0_m"
      },
      "outputs": [],
      "source": [
        "# 랜덤 포레스트\n",
        "import numpy as np\n",
        "import pandas as pd\n",
        "from sklearn.model_selection import train_test_split\n",
        "\n",
        "wine = pd.read_csv('https://bit.ly/wine_csv_data')\n",
        "\n",
        "data = wine[['alcohol', 'sugar', 'pH']].to_numpy()\n",
        "target = wine['class'].to_numpy()\n",
        "\n",
        "train_input, test_input, train_target, test_target = train_test_split(data, target, test_size=0.2, random_state=42)"
      ]
    },
    {
      "cell_type": "code",
      "source": [
        "# return_train_score=True로 하여 훈련 세트에 대한 점수도 같이 반환(과대적합 파악에 용이)\n",
        "from sklearn.model_selection import cross_validate\n",
        "from sklearn.ensemble import RandomForestClassifier\n",
        "\n",
        "rf = RandomForestClassifier(n_jobs=-1, random_state=42)\n",
        "scores = cross_validate(rf, train_input, train_target, return_train_score=True, n_jobs=-1)\n",
        "\n",
        "print(np.mean(scores['train_score']), np.mean(scores['test_score']))"
      ],
      "metadata": {
        "colab": {
          "base_uri": "https://localhost:8080/"
        },
        "id": "sXKNMdiTz-T4",
        "outputId": "c9e135ae-9819-43da-e772-ff9916a19ce2"
      },
      "execution_count": null,
      "outputs": [
        {
          "output_type": "stream",
          "name": "stdout",
          "text": [
            "0.9973541965122431 0.8905151032797809\n"
          ]
        }
      ]
    },
    {
      "cell_type": "code",
      "source": [
        "# 특성 중요도 출력\n",
        "rf.fit(train_input, train_target)\n",
        "print(rf.feature_importances_)"
      ],
      "metadata": {
        "colab": {
          "base_uri": "https://localhost:8080/"
        },
        "id": "rST2zbrT-n9z",
        "outputId": "75116f26-ae47-4525-de0b-eb338a049760"
      },
      "execution_count": null,
      "outputs": [
        {
          "output_type": "stream",
          "name": "stdout",
          "text": [
            "[0.23167441 0.50039841 0.26792718]\n"
          ]
        }
      ]
    },
    {
      "cell_type": "code",
      "source": [
        "# 자체적으로 모델을 평가하는 oob 점수 출력\n",
        "rf = RandomForestClassifier(oob_score=True, n_jobs=-1, random_state=42)\n",
        "\n",
        "rf.fit(train_input, train_target)\n",
        "print(rf.oob_score_)"
      ],
      "metadata": {
        "colab": {
          "base_uri": "https://localhost:8080/"
        },
        "id": "1ZlhSNAB-4rt",
        "outputId": "a1a4e41b-d0fc-46a2-cb95-36be895ad70f"
      },
      "execution_count": null,
      "outputs": [
        {
          "output_type": "stream",
          "name": "stdout",
          "text": [
            "0.8934000384837406\n"
          ]
        }
      ]
    },
    {
      "cell_type": "code",
      "source": [
        "# 엑스트라 트리\n",
        "# 랜덤포레스트와 유사하나 부트스트랩 샘플을 사용하지 않고 각 결정 트리를 만들 때 전체 훈련 세트를 사용함\n",
        "# 노드를 분할할 때 가장 좋은 분할을 찾는 것이 아니라 무작위로 뿐할함\n",
        "# 특성을 무작위로 분할한다면 성능이 낮아이지만 많은 트리를 앙상블 하기에 오버피팅을 막고 검증 세트의 점수를 높이는 효과가 있음\n",
        "from sklearn.ensemble import ExtraTreesClassifier\n",
        "\n",
        "et = ExtraTreesClassifier(n_jobs=-1, random_state=42)\n",
        "scores = cross_validate(et, train_input, train_target, return_train_score=True, n_jobs=-1)\n",
        "\n",
        "print(np.mean(scores['train_score']), np.mean(scores['test_score']))"
      ],
      "metadata": {
        "colab": {
          "base_uri": "https://localhost:8080/"
        },
        "id": "RLYEsjtEACRr",
        "outputId": "30b315e0-0151-45de-c716-12245dc48e61"
      },
      "execution_count": null,
      "outputs": [
        {
          "output_type": "stream",
          "name": "stdout",
          "text": [
            "0.9974503966084433 0.8887848893166506\n"
          ]
        }
      ]
    },
    {
      "cell_type": "code",
      "source": [
        "# 특성 중요도 출력\n",
        "et.fit(train_input, train_target)\n",
        "print(et.feature_importances_)"
      ],
      "metadata": {
        "colab": {
          "base_uri": "https://localhost:8080/"
        },
        "id": "dVBBXQwlCKJp",
        "outputId": "09931efd-f127-42ad-8acf-3d7a75dc7a2f"
      },
      "execution_count": null,
      "outputs": [
        {
          "output_type": "stream",
          "name": "stdout",
          "text": [
            "[0.20183568 0.52242907 0.27573525]\n"
          ]
        }
      ]
    },
    {
      "cell_type": "code",
      "source": [
        "# 그레디언트 부스팅\n",
        "# 깊이가 얕은 결정트리를 사용하기에 오버피팅에 강하고 높은 일반화 성능\n",
        "from sklearn.ensemble import GradientBoostingClassifier\n",
        "\n",
        "gb = GradientBoostingClassifier(random_state=42)\n",
        "scores = cross_validate(gb, train_input, train_target, return_train_score=True, n_jobs=-1)\n",
        "\n",
        "print(np.mean(scores['train_score']), np.mean(scores['test_score']))"
      ],
      "metadata": {
        "colab": {
          "base_uri": "https://localhost:8080/"
        },
        "id": "Ur_-1aGzGRdU",
        "outputId": "8b803c0c-70cc-42eb-a272-0a4b925336d9"
      },
      "execution_count": null,
      "outputs": [
        {
          "output_type": "stream",
          "name": "stdout",
          "text": [
            "0.8881086892152563 0.8720430147331015\n"
          ]
        }
      ]
    },
    {
      "cell_type": "code",
      "source": [
        "# 학습률을 증가시키고 트리의 개수를 늘리면 성능이 향상됨\n",
        "gb = GradientBoostingClassifier(n_estimators=500, learning_rate=0.2, random_state=42)\n",
        "scores = cross_validate(gb, train_input, train_target, return_train_score=True, n_jobs=-1)\n",
        "\n",
        "print(np.mean(scores['train_score']), np.mean(scores['test_score']))"
      ],
      "metadata": {
        "colab": {
          "base_uri": "https://localhost:8080/"
        },
        "id": "qZyaV66_GiMO",
        "outputId": "7f37f00a-1c2d-4bea-b64b-0651ace188bb"
      },
      "execution_count": null,
      "outputs": [
        {
          "output_type": "stream",
          "name": "stdout",
          "text": [
            "0.9464595437171814 0.8780082549788999\n"
          ]
        }
      ]
    },
    {
      "cell_type": "code",
      "source": [
        "# 특성 중요도 출력\n",
        "gb.fit(train_input, train_target)\n",
        "print(gb.feature_importances_)"
      ],
      "metadata": {
        "colab": {
          "base_uri": "https://localhost:8080/"
        },
        "id": "jsqPNngGGneg",
        "outputId": "56f5ca57-1eb9-4fbf-b27d-747e1ae73583"
      },
      "execution_count": null,
      "outputs": [
        {
          "output_type": "stream",
          "name": "stdout",
          "text": [
            "[0.15872278 0.68010884 0.16116839]\n"
          ]
        }
      ]
    },
    {
      "cell_type": "code",
      "source": [
        "# 그레디언트 부스팅의 속도와 성능을 개선한 히스토그램 기반 그레디언트 부스팅\n",
        "# 입력 특성을 256개의 구간으로 나누어 노드를 분할할 때 최적의 분할을 빠르게 찾음\n",
        "from sklearn.ensemble import HistGradientBoostingClassifier\n",
        "\n",
        "hgb = HistGradientBoostingClassifier(random_state=42)\n",
        "scores = cross_validate(hgb, train_input, train_target, return_train_score=True, n_jobs=-1)\n",
        "\n",
        "print(np.mean(scores['train_score']), np.mean(scores['test_score']))"
      ],
      "metadata": {
        "colab": {
          "base_uri": "https://localhost:8080/"
        },
        "id": "N29BNsMUH3be",
        "outputId": "bf25a4e3-0a67-4ffc-fa74-d8c74cdb9a44"
      },
      "execution_count": null,
      "outputs": [
        {
          "output_type": "stream",
          "name": "stdout",
          "text": [
            "0.9321723946453317 0.8801241948619236\n"
          ]
        }
      ]
    },
    {
      "cell_type": "code",
      "source": [
        "from sklearn.inspection import permutation_importance\n",
        "\n",
        "hgb.fit(train_input, train_target)\n",
        "result = permutation_importance(hgb, train_input, train_target, n_repeats=10,\n",
        "                                random_state=42, n_jobs=-1)\n",
        "print(result.importances_mean)"
      ],
      "metadata": {
        "colab": {
          "base_uri": "https://localhost:8080/"
        },
        "id": "0SRstc-3SJsI",
        "outputId": "ac39952f-8b0a-4e4e-9043-32398839b861"
      },
      "execution_count": null,
      "outputs": [
        {
          "output_type": "stream",
          "name": "stdout",
          "text": [
            "[0.08876275 0.23438522 0.08027708]\n"
          ]
        }
      ]
    },
    {
      "cell_type": "code",
      "source": [
        "# 특성 중요도 출력\n",
        "result = permutation_importance(hgb, test_input, test_target, n_repeats=10,\n",
        "                                random_state=42, n_jobs=-1)\n",
        "print(result.importances_mean)"
      ],
      "metadata": {
        "colab": {
          "base_uri": "https://localhost:8080/"
        },
        "id": "ud_x3rkCoMzt",
        "outputId": "0d305417-a0fb-4154-a29c-077c6e17cd25"
      },
      "execution_count": null,
      "outputs": [
        {
          "output_type": "stream",
          "name": "stdout",
          "text": [
            "[0.05969231 0.20238462 0.049     ]\n"
          ]
        }
      ]
    },
    {
      "cell_type": "code",
      "source": [
        "hgb.score(test_input, test_target)"
      ],
      "metadata": {
        "colab": {
          "base_uri": "https://localhost:8080/"
        },
        "id": "xpIcmC6coPvu",
        "outputId": "5c46bd5a-75ce-4090-e426-4ab45d382c33"
      },
      "execution_count": null,
      "outputs": [
        {
          "output_type": "execute_result",
          "data": {
            "text/plain": [
              "0.8723076923076923"
            ]
          },
          "metadata": {},
          "execution_count": 80
        }
      ]
    },
    {
      "cell_type": "code",
      "source": [
        "# XGBoost\n",
        "# tree_method 매개변수를 'hist'로 지정하여 히스토그램 기반 그레디언트 부스팅 가용\n",
        "from xgboost import XGBClassifier\n",
        "\n",
        "xgb = XGBClassifier(tree_method='hist', random_state=42)\n",
        "scores = cross_validate(xgb, train_input, train_target, return_train_score=True, n_jobs=-1)\n",
        "\n",
        "print(np.mean(scores['train_score']), np.mean(scores['test_score']))"
      ],
      "metadata": {
        "colab": {
          "base_uri": "https://localhost:8080/"
        },
        "id": "hM0ODkbJob3o",
        "outputId": "d078b080-9fbd-47f8-d5bd-497b94319330"
      },
      "execution_count": null,
      "outputs": [
        {
          "output_type": "stream",
          "name": "stdout",
          "text": [
            "0.9555033709953124 0.8799326275264677\n"
          ]
        }
      ]
    },
    {
      "cell_type": "markdown",
      "source": [
        "#과제\n",
        "\n",
        "1. 하단 셀에서 lightGBM 구현하기 (상단 Ensemble 셀 모두 실행 후 진행)\n",
        "2. 그리드 서치, 랜덤 서치 각각 어떤 상황에서 효율적인지 설명\n",
        "3. 다른 데이터셋으로 Decision Tree regression task 진행해보기\n",
        "  - 원하는 데이터셋을 사용해도 괜찮고, 올려둔 bike_data 사용해도 괜찮음\n",
        "  - 직접 구현해보는 것이 어렵다면 'bike sharing data decision tree regressor' 키워드로 검색 후 참고\n"
      ],
      "metadata": {
        "id": "qovxr1A01O9K"
      }
    },
    {
      "cell_type": "markdown",
      "source": [
        "## 과제1"
      ],
      "metadata": {
        "id": "2KXIJ2Y62Q_6"
      }
    },
    {
      "cell_type": "code",
      "source": [
        "# 과제 1: lightGBM 구현하기\n",
        "from lightgbm import LGBMClassifier\n",
        "\n",
        "lgbm = LGBMClassifier(tree_method='hist', random_state=42)\n",
        "scores = cross_validate(lgbm, train_input, train_target, return_train_score=True, n_jobs=-1)\n",
        "\n",
        "print(np.mean(scores['train_score']), np.mean(scores['test_score']))"
      ],
      "metadata": {
        "id": "NPvjBH_1pTC6",
        "colab": {
          "base_uri": "https://localhost:8080/"
        },
        "outputId": "f602a5a1-a42a-4b70-8da2-33aad8a50f1d"
      },
      "execution_count": null,
      "outputs": [
        {
          "output_type": "stream",
          "name": "stdout",
          "text": [
            "0.935828414851749 0.8801251203079884\n"
          ]
        }
      ]
    },
    {
      "cell_type": "markdown",
      "source": [
        "##과제2\n",
        "답:그리드 서치는 가능한 모든 조합을 탐색하기에, 하이퍼파라미터의 공간이 큰 경우에는 시간이 오래걸려 비효율적일 수 있다. 공간이 큰 경우에는 랜덤서치를 활용하는 것이 효율적일수 있다."
      ],
      "metadata": {
        "id": "O5oG3_VN2L1e"
      }
    },
    {
      "cell_type": "markdown",
      "source": [
        "## 과제3"
      ],
      "metadata": {
        "id": "OdvvbDtY2mst"
      }
    },
    {
      "cell_type": "code",
      "source": [
        "from google.colab import drive\n",
        "drive.mount('/content/drive/Mydrive')"
      ],
      "metadata": {
        "id": "iohvcS6x9cFn",
        "colab": {
          "base_uri": "https://localhost:8080/"
        },
        "outputId": "6465bbeb-84fc-4e44-af69-76547560f8ac"
      },
      "execution_count": null,
      "outputs": [
        {
          "output_type": "stream",
          "name": "stdout",
          "text": [
            "Drive already mounted at /content/drive; to attempt to forcibly remount, call drive.mount(\"/content/drive\", force_remount=True).\n"
          ]
        }
      ]
    },
    {
      "cell_type": "code",
      "source": [
        "# data manuipulation\n",
        "import numpy as np\n",
        "import pandas as pd\n",
        "\n",
        "# modeling utilities\n",
        "from sklearn import metrics\n",
        "from sklearn import preprocessing\n",
        "from sklearn.tree import DecisionTreeRegressor\n",
        "from sklearn.model_selection import GridSearchCV, cross_val_score, cross_val_predict, train_test_split\n",
        "\n",
        "\n",
        "# plotting libraries\n",
        "import matplotlib.pyplot as plt\n",
        "import seaborn as sns"
      ],
      "metadata": {
        "id": "bi9Lca8M6k8i"
      },
      "execution_count": null,
      "outputs": []
    },
    {
      "cell_type": "code",
      "source": [
        "hour_df = pd.read_csv(\"./hour.csv\")"
      ],
      "metadata": {
        "id": "b2fC5vyk2n7x"
      },
      "execution_count": null,
      "outputs": []
    },
    {
      "cell_type": "code",
      "source": [
        "hour_df.head()"
      ],
      "metadata": {
        "id": "ITQVdaeN9Ywy",
        "colab": {
          "base_uri": "https://localhost:8080/",
          "height": 206
        },
        "outputId": "d98c0d64-f1a8-4995-eb0a-880e7a0be0e6"
      },
      "execution_count": null,
      "outputs": [
        {
          "output_type": "execute_result",
          "data": {
            "text/plain": [
              "   instant      dteday  season  yr  mnth  hr  holiday  weekday  workingday  \\\n",
              "0        1  2011-01-01       1   0     1   0        0        6           0   \n",
              "1        2  2011-01-01       1   0     1   1        0        6           0   \n",
              "2        3  2011-01-01       1   0     1   2        0        6           0   \n",
              "3        4  2011-01-01       1   0     1   3        0        6           0   \n",
              "4        5  2011-01-01       1   0     1   4        0        6           0   \n",
              "\n",
              "   weathersit  temp   atemp   hum  windspeed  casual  registered  cnt  \n",
              "0           1  0.24  0.2879  0.81        0.0       3          13   16  \n",
              "1           1  0.22  0.2727  0.80        0.0       8          32   40  \n",
              "2           1  0.22  0.2727  0.80        0.0       5          27   32  \n",
              "3           1  0.24  0.2879  0.75        0.0       3          10   13  \n",
              "4           1  0.24  0.2879  0.75        0.0       0           1    1  "
            ],
            "text/html": [
              "\n",
              "\n",
              "  <div id=\"df-82c842e8-efe1-4d4a-8621-fc98aa6cf090\">\n",
              "    <div class=\"colab-df-container\">\n",
              "      <div>\n",
              "<style scoped>\n",
              "    .dataframe tbody tr th:only-of-type {\n",
              "        vertical-align: middle;\n",
              "    }\n",
              "\n",
              "    .dataframe tbody tr th {\n",
              "        vertical-align: top;\n",
              "    }\n",
              "\n",
              "    .dataframe thead th {\n",
              "        text-align: right;\n",
              "    }\n",
              "</style>\n",
              "<table border=\"1\" class=\"dataframe\">\n",
              "  <thead>\n",
              "    <tr style=\"text-align: right;\">\n",
              "      <th></th>\n",
              "      <th>instant</th>\n",
              "      <th>dteday</th>\n",
              "      <th>season</th>\n",
              "      <th>yr</th>\n",
              "      <th>mnth</th>\n",
              "      <th>hr</th>\n",
              "      <th>holiday</th>\n",
              "      <th>weekday</th>\n",
              "      <th>workingday</th>\n",
              "      <th>weathersit</th>\n",
              "      <th>temp</th>\n",
              "      <th>atemp</th>\n",
              "      <th>hum</th>\n",
              "      <th>windspeed</th>\n",
              "      <th>casual</th>\n",
              "      <th>registered</th>\n",
              "      <th>cnt</th>\n",
              "    </tr>\n",
              "  </thead>\n",
              "  <tbody>\n",
              "    <tr>\n",
              "      <th>0</th>\n",
              "      <td>1</td>\n",
              "      <td>2011-01-01</td>\n",
              "      <td>1</td>\n",
              "      <td>0</td>\n",
              "      <td>1</td>\n",
              "      <td>0</td>\n",
              "      <td>0</td>\n",
              "      <td>6</td>\n",
              "      <td>0</td>\n",
              "      <td>1</td>\n",
              "      <td>0.24</td>\n",
              "      <td>0.2879</td>\n",
              "      <td>0.81</td>\n",
              "      <td>0.0</td>\n",
              "      <td>3</td>\n",
              "      <td>13</td>\n",
              "      <td>16</td>\n",
              "    </tr>\n",
              "    <tr>\n",
              "      <th>1</th>\n",
              "      <td>2</td>\n",
              "      <td>2011-01-01</td>\n",
              "      <td>1</td>\n",
              "      <td>0</td>\n",
              "      <td>1</td>\n",
              "      <td>1</td>\n",
              "      <td>0</td>\n",
              "      <td>6</td>\n",
              "      <td>0</td>\n",
              "      <td>1</td>\n",
              "      <td>0.22</td>\n",
              "      <td>0.2727</td>\n",
              "      <td>0.80</td>\n",
              "      <td>0.0</td>\n",
              "      <td>8</td>\n",
              "      <td>32</td>\n",
              "      <td>40</td>\n",
              "    </tr>\n",
              "    <tr>\n",
              "      <th>2</th>\n",
              "      <td>3</td>\n",
              "      <td>2011-01-01</td>\n",
              "      <td>1</td>\n",
              "      <td>0</td>\n",
              "      <td>1</td>\n",
              "      <td>2</td>\n",
              "      <td>0</td>\n",
              "      <td>6</td>\n",
              "      <td>0</td>\n",
              "      <td>1</td>\n",
              "      <td>0.22</td>\n",
              "      <td>0.2727</td>\n",
              "      <td>0.80</td>\n",
              "      <td>0.0</td>\n",
              "      <td>5</td>\n",
              "      <td>27</td>\n",
              "      <td>32</td>\n",
              "    </tr>\n",
              "    <tr>\n",
              "      <th>3</th>\n",
              "      <td>4</td>\n",
              "      <td>2011-01-01</td>\n",
              "      <td>1</td>\n",
              "      <td>0</td>\n",
              "      <td>1</td>\n",
              "      <td>3</td>\n",
              "      <td>0</td>\n",
              "      <td>6</td>\n",
              "      <td>0</td>\n",
              "      <td>1</td>\n",
              "      <td>0.24</td>\n",
              "      <td>0.2879</td>\n",
              "      <td>0.75</td>\n",
              "      <td>0.0</td>\n",
              "      <td>3</td>\n",
              "      <td>10</td>\n",
              "      <td>13</td>\n",
              "    </tr>\n",
              "    <tr>\n",
              "      <th>4</th>\n",
              "      <td>5</td>\n",
              "      <td>2011-01-01</td>\n",
              "      <td>1</td>\n",
              "      <td>0</td>\n",
              "      <td>1</td>\n",
              "      <td>4</td>\n",
              "      <td>0</td>\n",
              "      <td>6</td>\n",
              "      <td>0</td>\n",
              "      <td>1</td>\n",
              "      <td>0.24</td>\n",
              "      <td>0.2879</td>\n",
              "      <td>0.75</td>\n",
              "      <td>0.0</td>\n",
              "      <td>0</td>\n",
              "      <td>1</td>\n",
              "      <td>1</td>\n",
              "    </tr>\n",
              "  </tbody>\n",
              "</table>\n",
              "</div>\n",
              "      <button class=\"colab-df-convert\" onclick=\"convertToInteractive('df-82c842e8-efe1-4d4a-8621-fc98aa6cf090')\"\n",
              "              title=\"Convert this dataframe to an interactive table.\"\n",
              "              style=\"display:none;\">\n",
              "\n",
              "  <svg xmlns=\"http://www.w3.org/2000/svg\" height=\"24px\"viewBox=\"0 0 24 24\"\n",
              "       width=\"24px\">\n",
              "    <path d=\"M0 0h24v24H0V0z\" fill=\"none\"/>\n",
              "    <path d=\"M18.56 5.44l.94 2.06.94-2.06 2.06-.94-2.06-.94-.94-2.06-.94 2.06-2.06.94zm-11 1L8.5 8.5l.94-2.06 2.06-.94-2.06-.94L8.5 2.5l-.94 2.06-2.06.94zm10 10l.94 2.06.94-2.06 2.06-.94-2.06-.94-.94-2.06-.94 2.06-2.06.94z\"/><path d=\"M17.41 7.96l-1.37-1.37c-.4-.4-.92-.59-1.43-.59-.52 0-1.04.2-1.43.59L10.3 9.45l-7.72 7.72c-.78.78-.78 2.05 0 2.83L4 21.41c.39.39.9.59 1.41.59.51 0 1.02-.2 1.41-.59l7.78-7.78 2.81-2.81c.8-.78.8-2.07 0-2.86zM5.41 20L4 18.59l7.72-7.72 1.47 1.35L5.41 20z\"/>\n",
              "  </svg>\n",
              "      </button>\n",
              "\n",
              "\n",
              "\n",
              "    <div id=\"df-b4bd8372-00d6-42d9-912b-b98dcb1ad732\">\n",
              "      <button class=\"colab-df-quickchart\" onclick=\"quickchart('df-b4bd8372-00d6-42d9-912b-b98dcb1ad732')\"\n",
              "              title=\"Suggest charts.\"\n",
              "              style=\"display:none;\">\n",
              "\n",
              "<svg xmlns=\"http://www.w3.org/2000/svg\" height=\"24px\"viewBox=\"0 0 24 24\"\n",
              "     width=\"24px\">\n",
              "    <g>\n",
              "        <path d=\"M19 3H5c-1.1 0-2 .9-2 2v14c0 1.1.9 2 2 2h14c1.1 0 2-.9 2-2V5c0-1.1-.9-2-2-2zM9 17H7v-7h2v7zm4 0h-2V7h2v10zm4 0h-2v-4h2v4z\"/>\n",
              "    </g>\n",
              "</svg>\n",
              "      </button>\n",
              "    </div>\n",
              "\n",
              "<style>\n",
              "  .colab-df-quickchart {\n",
              "    background-color: #E8F0FE;\n",
              "    border: none;\n",
              "    border-radius: 50%;\n",
              "    cursor: pointer;\n",
              "    display: none;\n",
              "    fill: #1967D2;\n",
              "    height: 32px;\n",
              "    padding: 0 0 0 0;\n",
              "    width: 32px;\n",
              "  }\n",
              "\n",
              "  .colab-df-quickchart:hover {\n",
              "    background-color: #E2EBFA;\n",
              "    box-shadow: 0px 1px 2px rgba(60, 64, 67, 0.3), 0px 1px 3px 1px rgba(60, 64, 67, 0.15);\n",
              "    fill: #174EA6;\n",
              "  }\n",
              "\n",
              "  [theme=dark] .colab-df-quickchart {\n",
              "    background-color: #3B4455;\n",
              "    fill: #D2E3FC;\n",
              "  }\n",
              "\n",
              "  [theme=dark] .colab-df-quickchart:hover {\n",
              "    background-color: #434B5C;\n",
              "    box-shadow: 0px 1px 3px 1px rgba(0, 0, 0, 0.15);\n",
              "    filter: drop-shadow(0px 1px 2px rgba(0, 0, 0, 0.3));\n",
              "    fill: #FFFFFF;\n",
              "  }\n",
              "</style>\n",
              "\n",
              "    <script>\n",
              "      async function quickchart(key) {\n",
              "        const containerElement = document.querySelector('#' + key);\n",
              "        const charts = await google.colab.kernel.invokeFunction(\n",
              "            'suggestCharts', [key], {});\n",
              "      }\n",
              "    </script>\n",
              "\n",
              "      <script>\n",
              "\n",
              "function displayQuickchartButton(domScope) {\n",
              "  let quickchartButtonEl =\n",
              "    domScope.querySelector('#df-b4bd8372-00d6-42d9-912b-b98dcb1ad732 button.colab-df-quickchart');\n",
              "  quickchartButtonEl.style.display =\n",
              "    google.colab.kernel.accessAllowed ? 'block' : 'none';\n",
              "}\n",
              "\n",
              "        displayQuickchartButton(document);\n",
              "      </script>\n",
              "      <style>\n",
              "    .colab-df-container {\n",
              "      display:flex;\n",
              "      flex-wrap:wrap;\n",
              "      gap: 12px;\n",
              "    }\n",
              "\n",
              "    .colab-df-convert {\n",
              "      background-color: #E8F0FE;\n",
              "      border: none;\n",
              "      border-radius: 50%;\n",
              "      cursor: pointer;\n",
              "      display: none;\n",
              "      fill: #1967D2;\n",
              "      height: 32px;\n",
              "      padding: 0 0 0 0;\n",
              "      width: 32px;\n",
              "    }\n",
              "\n",
              "    .colab-df-convert:hover {\n",
              "      background-color: #E2EBFA;\n",
              "      box-shadow: 0px 1px 2px rgba(60, 64, 67, 0.3), 0px 1px 3px 1px rgba(60, 64, 67, 0.15);\n",
              "      fill: #174EA6;\n",
              "    }\n",
              "\n",
              "    [theme=dark] .colab-df-convert {\n",
              "      background-color: #3B4455;\n",
              "      fill: #D2E3FC;\n",
              "    }\n",
              "\n",
              "    [theme=dark] .colab-df-convert:hover {\n",
              "      background-color: #434B5C;\n",
              "      box-shadow: 0px 1px 3px 1px rgba(0, 0, 0, 0.15);\n",
              "      filter: drop-shadow(0px 1px 2px rgba(0, 0, 0, 0.3));\n",
              "      fill: #FFFFFF;\n",
              "    }\n",
              "  </style>\n",
              "\n",
              "      <script>\n",
              "        const buttonEl =\n",
              "          document.querySelector('#df-82c842e8-efe1-4d4a-8621-fc98aa6cf090 button.colab-df-convert');\n",
              "        buttonEl.style.display =\n",
              "          google.colab.kernel.accessAllowed ? 'block' : 'none';\n",
              "\n",
              "        async function convertToInteractive(key) {\n",
              "          const element = document.querySelector('#df-82c842e8-efe1-4d4a-8621-fc98aa6cf090');\n",
              "          const dataTable =\n",
              "            await google.colab.kernel.invokeFunction('convertToInteractive',\n",
              "                                                     [key], {});\n",
              "          if (!dataTable) return;\n",
              "\n",
              "          const docLinkHtml = 'Like what you see? Visit the ' +\n",
              "            '<a target=\"_blank\" href=https://colab.research.google.com/notebooks/data_table.ipynb>data table notebook</a>'\n",
              "            + ' to learn more about interactive tables.';\n",
              "          element.innerHTML = '';\n",
              "          dataTable['output_type'] = 'display_data';\n",
              "          await google.colab.output.renderOutput(dataTable, element);\n",
              "          const docLink = document.createElement('div');\n",
              "          docLink.innerHTML = docLinkHtml;\n",
              "          element.appendChild(docLink);\n",
              "        }\n",
              "      </script>\n",
              "    </div>\n",
              "  </div>\n"
            ]
          },
          "metadata": {},
          "execution_count": 179
        }
      ]
    },
    {
      "cell_type": "code",
      "source": [
        "#칼럼명 변경\n",
        "hour_df.rename(columns={'instant':'rec_id',\n",
        "                        'dteday':'datetime',\n",
        "                        'holiday':'is_holiday',\n",
        "                        'workingday':'is_workingday',\n",
        "                        'weathersit':'weather_condition',\n",
        "                        'hum':'humidity',\n",
        "                        'mnth':'month',\n",
        "                        'cnt':'total_count',\n",
        "                        'hr':'hour',\n",
        "                        'yr':'year'},inplace=True)\n",
        "\n",
        "\n",
        "#datetime 타입 변환\n",
        "hour_df['datetime'] = pd.to_datetime(hour_df.datetime)\n",
        "\n",
        "#범주형 변수 변횐\n",
        "hour_df['season'] = hour_df.season.astype('category')\n",
        "hour_df['is_holiday'] = hour_df.is_holiday.astype('category')\n",
        "hour_df['weekday'] = hour_df.weekday.astype('category')\n",
        "hour_df['weather_condition'] = hour_df.weather_condition.astype('category')\n",
        "hour_df['is_workingday'] = hour_df.is_workingday.astype('category')\n",
        "hour_df['month'] = hour_df.month.astype('category')\n",
        "hour_df['year'] = hour_df.year.astype('category')\n",
        "hour_df['hour'] = hour_df.hour.astype('category')"
      ],
      "metadata": {
        "id": "GC8N8b1B2er9"
      },
      "execution_count": null,
      "outputs": []
    },
    {
      "cell_type": "code",
      "source": [
        "#FE\n",
        "\n",
        "def fit_transform_ohe(df,col_name):\n",
        "\n",
        "    #라벨 인코딩\n",
        "    le = preprocessing.LabelEncoder()\n",
        "    le_labels = le.fit_transform(df[col_name])\n",
        "    df[col_name+'_label'] = le_labels\n",
        "    #원핫 인코딩\n",
        "    ohe = preprocessing.OneHotEncoder()\n",
        "    feature_arr = ohe.fit_transform(df[[col_name+'_label']]).toarray()\n",
        "    feature_labels = [col_name+'_'+str(cls_label) for cls_label in le.classes_]\n",
        "    features_df = pd.DataFrame(feature_arr, columns=feature_labels)\n",
        "    return le,ohe,features_df\n",
        "\n",
        "\n",
        "def transform_ohe(df,le,ohe,col_name):\n",
        "    #라벨 인코딩\n",
        "    col_labels = le.transform(df[col_name])\n",
        "    df[col_name+'_label'] = col_labels\n",
        "\n",
        "    #라벨 인코딩\n",
        "    feature_arr = ohe.fit_transform(df[[col_name+'_label']]).toarray()\n",
        "    feature_labels = [col_name+'_'+str(cls_label) for cls_label in le.classes_]\n",
        "    features_df = pd.DataFrame(feature_arr, columns=feature_labels)\n",
        "\n",
        "    return features_df"
      ],
      "metadata": {
        "id": "BakohWPr6b3P"
      },
      "execution_count": null,
      "outputs": []
    },
    {
      "cell_type": "code",
      "source": [
        "#훈련세트와 테스트세트로 나누기\n",
        "X_train, X_test, y_train, y_test = train_test_split(hour_df.iloc[:,0:-3],\n",
        "                                        hour_df.iloc[:,-1],\n",
        "                                        test_size=0.33,\n",
        "                                        random_state=42)\n",
        "X_train.reset_index(inplace=True)\n",
        "y_train = y_train.reset_index()\n",
        "\n",
        "X_test.reset_index(inplace=True)\n",
        "y_test = y_test.reset_index()"
      ],
      "metadata": {
        "id": "zc6s4sUp_ObE"
      },
      "execution_count": null,
      "outputs": []
    },
    {
      "cell_type": "code",
      "source": [
        "cat_attr_list = ['season','is_holiday',\n",
        "                 'weather_condition','is_workingday',\n",
        "                 'hour','weekday','month','year']\n",
        "numeric_feature_cols = ['temp','humidity','windspeed',\n",
        "                        'hour','weekday','month','year']\n",
        "subset_cat_features =  ['season','is_holiday','weather_condition','is_workingday']\n",
        "\n",
        "\n",
        "#훈련데이터 세트 범주형 자료로 인코딩\n",
        "encoded_attr_list = []\n",
        "for col in cat_attr_list:\n",
        "    return_obj = fit_transform_ohe(X_train,col)\n",
        "    encoded_attr_list.append({'label_enc':return_obj[0],\n",
        "                              'ohe_enc':return_obj[1],\n",
        "                              'feature_df':return_obj[2],\n",
        "                              'col_name':col})\n",
        "\n",
        "\n",
        "feature_df_list  = [X_train[numeric_feature_cols]]\n",
        "feature_df_list.extend([enc['feature_df'] \\\n",
        "                        for enc in encoded_attr_list \\\n",
        "                        if enc['col_name'] in subset_cat_features])\n",
        "\n",
        "train_df_new = pd.concat(feature_df_list, axis=1)\n",
        "print(\"Train dataset shape::{}\".format(train_df_new.shape))\n",
        "print(train_df_new.head())\n",
        "\n",
        "#테스트 세트 범주형 자료로 인코딩\n",
        "test_encoded_attr_list = []\n",
        "for enc in encoded_attr_list:\n",
        "    col_name = enc['col_name']\n",
        "    le = enc['label_enc']\n",
        "    ohe = enc['ohe_enc']\n",
        "    test_encoded_attr_list.append({'feature_df':transform_ohe(X_test,\n",
        "                                                              le,ohe,\n",
        "                                                              col_name),\n",
        "                                   'col_name':col_name})\n",
        "\n",
        "\n",
        "test_feature_df_list = [X_test[numeric_feature_cols]]\n",
        "test_feature_df_list.extend([enc['feature_df'] \\\n",
        "                             for enc in test_encoded_attr_list \\\n",
        "                             if enc['col_name'] in subset_cat_features])\n",
        "\n",
        "test_df_new = pd.concat(test_feature_df_list, axis=1)\n",
        "print(\"Test dataset shape::{}\".format(test_df_new.shape))\n",
        "print(test_df_new.head())"
      ],
      "metadata": {
        "colab": {
          "base_uri": "https://localhost:8080/"
        },
        "id": "vvMN4ptUL3Ad",
        "outputId": "a0a36097-9dcf-4bf2-de75-bcc22f0fd0c2"
      },
      "execution_count": null,
      "outputs": [
        {
          "output_type": "stream",
          "name": "stdout",
          "text": [
            "Train dataset shape::(11643, 19)\n",
            "   temp  humidity  windspeed hour weekday month year  season_1  season_2  \\\n",
            "0  0.64      0.65     0.1940    0       5     9    0       0.0       0.0   \n",
            "1  0.50      0.45     0.2239   13       2     3    0       0.0       1.0   \n",
            "2  0.86      0.47     0.5224   12       0     8    1       0.0       0.0   \n",
            "3  0.30      0.61     0.0000    2       3     2    1       1.0       0.0   \n",
            "4  0.54      0.19     0.4179   17       6     4    1       0.0       1.0   \n",
            "\n",
            "   season_3  season_4  is_holiday_0  is_holiday_1  weather_condition_1  \\\n",
            "0       1.0       0.0           1.0           0.0                  1.0   \n",
            "1       0.0       0.0           1.0           0.0                  1.0   \n",
            "2       1.0       0.0           1.0           0.0                  1.0   \n",
            "3       0.0       0.0           1.0           0.0                  1.0   \n",
            "4       0.0       0.0           1.0           0.0                  1.0   \n",
            "\n",
            "   weather_condition_2  weather_condition_3  weather_condition_4  \\\n",
            "0                  0.0                  0.0                  0.0   \n",
            "1                  0.0                  0.0                  0.0   \n",
            "2                  0.0                  0.0                  0.0   \n",
            "3                  0.0                  0.0                  0.0   \n",
            "4                  0.0                  0.0                  0.0   \n",
            "\n",
            "   is_workingday_0  is_workingday_1  \n",
            "0              0.0              1.0  \n",
            "1              0.0              1.0  \n",
            "2              1.0              0.0  \n",
            "3              0.0              1.0  \n",
            "4              1.0              0.0  \n",
            "Test dataset shape::(5736, 19)\n",
            "   temp  humidity  windspeed hour weekday month year  season_1  season_2  \\\n",
            "0  0.80      0.27     0.1940   19       6     6    1       0.0       0.0   \n",
            "1  0.24      0.41     0.2239   20       1     1    1       1.0       0.0   \n",
            "2  0.32      0.66     0.2836    2       5    10    0       0.0       0.0   \n",
            "3  0.78      0.52     0.3582   19       2     5    1       0.0       1.0   \n",
            "4  0.26      0.56     0.3881    0       4     1    0       1.0       0.0   \n",
            "\n",
            "   season_3  season_4  is_holiday_0  is_holiday_1  weather_condition_1  \\\n",
            "0       1.0       0.0           1.0           0.0                  1.0   \n",
            "1       0.0       0.0           0.0           1.0                  1.0   \n",
            "2       0.0       1.0           1.0           0.0                  1.0   \n",
            "3       0.0       0.0           1.0           0.0                  1.0   \n",
            "4       0.0       0.0           1.0           0.0                  1.0   \n",
            "\n",
            "   weather_condition_2  weather_condition_3  weather_condition_4  \\\n",
            "0                  0.0                  0.0                  0.0   \n",
            "1                  0.0                  0.0                  0.0   \n",
            "2                  0.0                  0.0                  0.0   \n",
            "3                  0.0                  0.0                  0.0   \n",
            "4                  0.0                  0.0                  0.0   \n",
            "\n",
            "   is_workingday_0  is_workingday_1  \n",
            "0              1.0              0.0  \n",
            "1              1.0              0.0  \n",
            "2              0.0              1.0  \n",
            "3              0.0              1.0  \n",
            "4              0.0              1.0  \n"
          ]
        }
      ]
    },
    {
      "cell_type": "code",
      "source": [
        "X_train = train_df_new\n",
        "y_train = y_train.total_count.values.reshape(-1,1)\n",
        "\n",
        "X_test = test_df_new\n",
        "y_test = y_test.total_count.values.reshape(-1,1)\n",
        "print(X_train.shape,y_train.shape)"
      ],
      "metadata": {
        "colab": {
          "base_uri": "https://localhost:8080/"
        },
        "id": "7kt4abxRMWhW",
        "outputId": "045014bf-37ca-4824-8ea5-1be49ef9d814"
      },
      "execution_count": null,
      "outputs": [
        {
          "output_type": "stream",
          "name": "stdout",
          "text": [
            "(11643, 19) (11643, 1)\n"
          ]
        }
      ]
    },
    {
      "cell_type": "code",
      "source": [
        "dtm = DecisionTreeRegressor(max_depth=6,\n",
        "                           min_samples_split=8,\n",
        "                           max_leaf_nodes=10)\n",
        "\n",
        "dtm.fit(X_train,y_train)\n",
        "print(\"R-Squared on train dataset={}\".format(dtm.score(X_test,y_test)))\n",
        "\n",
        "dtm.fit(X_test,y_test)\n",
        "print(\"R-Squaredon test dataset={}\".format(dtm.score(X_test,y_test)))"
      ],
      "metadata": {
        "colab": {
          "base_uri": "https://localhost:8080/"
        },
        "id": "geh2nmrlMerd",
        "outputId": "282a213c-8e64-4f99-b123-dfce979a14db"
      },
      "execution_count": null,
      "outputs": [
        {
          "output_type": "stream",
          "name": "stdout",
          "text": [
            "R-Squared on train dataset=0.603722650544531\n",
            "R-Squaredon test dataset=0.6085309306528219\n"
          ]
        }
      ]
    },
    {
      "cell_type": "code",
      "source": [
        "param_grid = {\"criterion\": [\"squared_error\", \"friedman_mse\"],\n",
        "              \"min_samples_split\": [10, 25, 40],\n",
        "              \"max_depth\": [2, 5, 8],\n",
        "              \"min_samples_leaf\": [20, 40, 100],\n",
        "              \"max_leaf_nodes\": [5, 20, 100],\n",
        "              }\n",
        "\n",
        "\n",
        "grid_cv_dtm = GridSearchCV(dtm, param_grid, cv=5, error_score='raise')\n",
        "\n",
        "grid_cv_dtm.fit(X_train,y_train)"
      ],
      "metadata": {
        "colab": {
          "base_uri": "https://localhost:8080/",
          "height": 118
        },
        "id": "wJmWwt1mMy81",
        "outputId": "9afb13ad-3017-4500-a210-ecd0867c961d"
      },
      "execution_count": null,
      "outputs": [
        {
          "output_type": "execute_result",
          "data": {
            "text/plain": [
              "GridSearchCV(cv=5, error_score='raise',\n",
              "             estimator=DecisionTreeRegressor(max_depth=6, max_leaf_nodes=10,\n",
              "                                             min_samples_split=8),\n",
              "             param_grid={'criterion': ['squared_error', 'friedman_mse'],\n",
              "                         'max_depth': [2, 5, 8], 'max_leaf_nodes': [5, 20, 100],\n",
              "                         'min_samples_leaf': [20, 40, 100],\n",
              "                         'min_samples_split': [10, 25, 40]})"
            ],
            "text/html": [
              "<style>#sk-container-id-6 {color: black;background-color: white;}#sk-container-id-6 pre{padding: 0;}#sk-container-id-6 div.sk-toggleable {background-color: white;}#sk-container-id-6 label.sk-toggleable__label {cursor: pointer;display: block;width: 100%;margin-bottom: 0;padding: 0.3em;box-sizing: border-box;text-align: center;}#sk-container-id-6 label.sk-toggleable__label-arrow:before {content: \"▸\";float: left;margin-right: 0.25em;color: #696969;}#sk-container-id-6 label.sk-toggleable__label-arrow:hover:before {color: black;}#sk-container-id-6 div.sk-estimator:hover label.sk-toggleable__label-arrow:before {color: black;}#sk-container-id-6 div.sk-toggleable__content {max-height: 0;max-width: 0;overflow: hidden;text-align: left;background-color: #f0f8ff;}#sk-container-id-6 div.sk-toggleable__content pre {margin: 0.2em;color: black;border-radius: 0.25em;background-color: #f0f8ff;}#sk-container-id-6 input.sk-toggleable__control:checked~div.sk-toggleable__content {max-height: 200px;max-width: 100%;overflow: auto;}#sk-container-id-6 input.sk-toggleable__control:checked~label.sk-toggleable__label-arrow:before {content: \"▾\";}#sk-container-id-6 div.sk-estimator input.sk-toggleable__control:checked~label.sk-toggleable__label {background-color: #d4ebff;}#sk-container-id-6 div.sk-label input.sk-toggleable__control:checked~label.sk-toggleable__label {background-color: #d4ebff;}#sk-container-id-6 input.sk-hidden--visually {border: 0;clip: rect(1px 1px 1px 1px);clip: rect(1px, 1px, 1px, 1px);height: 1px;margin: -1px;overflow: hidden;padding: 0;position: absolute;width: 1px;}#sk-container-id-6 div.sk-estimator {font-family: monospace;background-color: #f0f8ff;border: 1px dotted black;border-radius: 0.25em;box-sizing: border-box;margin-bottom: 0.5em;}#sk-container-id-6 div.sk-estimator:hover {background-color: #d4ebff;}#sk-container-id-6 div.sk-parallel-item::after {content: \"\";width: 100%;border-bottom: 1px solid gray;flex-grow: 1;}#sk-container-id-6 div.sk-label:hover label.sk-toggleable__label {background-color: #d4ebff;}#sk-container-id-6 div.sk-serial::before {content: \"\";position: absolute;border-left: 1px solid gray;box-sizing: border-box;top: 0;bottom: 0;left: 50%;z-index: 0;}#sk-container-id-6 div.sk-serial {display: flex;flex-direction: column;align-items: center;background-color: white;padding-right: 0.2em;padding-left: 0.2em;position: relative;}#sk-container-id-6 div.sk-item {position: relative;z-index: 1;}#sk-container-id-6 div.sk-parallel {display: flex;align-items: stretch;justify-content: center;background-color: white;position: relative;}#sk-container-id-6 div.sk-item::before, #sk-container-id-6 div.sk-parallel-item::before {content: \"\";position: absolute;border-left: 1px solid gray;box-sizing: border-box;top: 0;bottom: 0;left: 50%;z-index: -1;}#sk-container-id-6 div.sk-parallel-item {display: flex;flex-direction: column;z-index: 1;position: relative;background-color: white;}#sk-container-id-6 div.sk-parallel-item:first-child::after {align-self: flex-end;width: 50%;}#sk-container-id-6 div.sk-parallel-item:last-child::after {align-self: flex-start;width: 50%;}#sk-container-id-6 div.sk-parallel-item:only-child::after {width: 0;}#sk-container-id-6 div.sk-dashed-wrapped {border: 1px dashed gray;margin: 0 0.4em 0.5em 0.4em;box-sizing: border-box;padding-bottom: 0.4em;background-color: white;}#sk-container-id-6 div.sk-label label {font-family: monospace;font-weight: bold;display: inline-block;line-height: 1.2em;}#sk-container-id-6 div.sk-label-container {text-align: center;}#sk-container-id-6 div.sk-container {/* jupyter's `normalize.less` sets `[hidden] { display: none; }` but bootstrap.min.css set `[hidden] { display: none !important; }` so we also need the `!important` here to be able to override the default hidden behavior on the sphinx rendered scikit-learn.org. See: https://github.com/scikit-learn/scikit-learn/issues/21755 */display: inline-block !important;position: relative;}#sk-container-id-6 div.sk-text-repr-fallback {display: none;}</style><div id=\"sk-container-id-6\" class=\"sk-top-container\"><div class=\"sk-text-repr-fallback\"><pre>GridSearchCV(cv=5, error_score=&#x27;raise&#x27;,\n",
              "             estimator=DecisionTreeRegressor(max_depth=6, max_leaf_nodes=10,\n",
              "                                             min_samples_split=8),\n",
              "             param_grid={&#x27;criterion&#x27;: [&#x27;squared_error&#x27;, &#x27;friedman_mse&#x27;],\n",
              "                         &#x27;max_depth&#x27;: [2, 5, 8], &#x27;max_leaf_nodes&#x27;: [5, 20, 100],\n",
              "                         &#x27;min_samples_leaf&#x27;: [20, 40, 100],\n",
              "                         &#x27;min_samples_split&#x27;: [10, 25, 40]})</pre><b>In a Jupyter environment, please rerun this cell to show the HTML representation or trust the notebook. <br />On GitHub, the HTML representation is unable to render, please try loading this page with nbviewer.org.</b></div><div class=\"sk-container\" hidden><div class=\"sk-item sk-dashed-wrapped\"><div class=\"sk-label-container\"><div class=\"sk-label sk-toggleable\"><input class=\"sk-toggleable__control sk-hidden--visually\" id=\"sk-estimator-id-16\" type=\"checkbox\" ><label for=\"sk-estimator-id-16\" class=\"sk-toggleable__label sk-toggleable__label-arrow\">GridSearchCV</label><div class=\"sk-toggleable__content\"><pre>GridSearchCV(cv=5, error_score=&#x27;raise&#x27;,\n",
              "             estimator=DecisionTreeRegressor(max_depth=6, max_leaf_nodes=10,\n",
              "                                             min_samples_split=8),\n",
              "             param_grid={&#x27;criterion&#x27;: [&#x27;squared_error&#x27;, &#x27;friedman_mse&#x27;],\n",
              "                         &#x27;max_depth&#x27;: [2, 5, 8], &#x27;max_leaf_nodes&#x27;: [5, 20, 100],\n",
              "                         &#x27;min_samples_leaf&#x27;: [20, 40, 100],\n",
              "                         &#x27;min_samples_split&#x27;: [10, 25, 40]})</pre></div></div></div><div class=\"sk-parallel\"><div class=\"sk-parallel-item\"><div class=\"sk-item\"><div class=\"sk-label-container\"><div class=\"sk-label sk-toggleable\"><input class=\"sk-toggleable__control sk-hidden--visually\" id=\"sk-estimator-id-17\" type=\"checkbox\" ><label for=\"sk-estimator-id-17\" class=\"sk-toggleable__label sk-toggleable__label-arrow\">estimator: DecisionTreeRegressor</label><div class=\"sk-toggleable__content\"><pre>DecisionTreeRegressor(max_depth=6, max_leaf_nodes=10, min_samples_split=8)</pre></div></div></div><div class=\"sk-serial\"><div class=\"sk-item\"><div class=\"sk-estimator sk-toggleable\"><input class=\"sk-toggleable__control sk-hidden--visually\" id=\"sk-estimator-id-18\" type=\"checkbox\" ><label for=\"sk-estimator-id-18\" class=\"sk-toggleable__label sk-toggleable__label-arrow\">DecisionTreeRegressor</label><div class=\"sk-toggleable__content\"><pre>DecisionTreeRegressor(max_depth=6, max_leaf_nodes=10, min_samples_split=8)</pre></div></div></div></div></div></div></div></div></div></div>"
            ]
          },
          "metadata": {},
          "execution_count": 186
        }
      ]
    },
    {
      "cell_type": "code",
      "source": [
        "print(\"R-Squared::{}\".format(grid_cv_dtm.best_score_))\n",
        "print(\"Best Hyperparameters::\\n{}\".format(grid_cv_dtm.best_params_))"
      ],
      "metadata": {
        "colab": {
          "base_uri": "https://localhost:8080/"
        },
        "id": "6j13ckbqM6il",
        "outputId": "9061ec04-0ac6-4178-f1d1-ae227b6dbbba"
      },
      "execution_count": null,
      "outputs": [
        {
          "output_type": "stream",
          "name": "stdout",
          "text": [
            "R-Squared::0.8320445160718\n",
            "Best Hyperparameters::\n",
            "{'criterion': 'squared_error', 'max_depth': 8, 'max_leaf_nodes': 100, 'min_samples_leaf': 20, 'min_samples_split': 10}\n"
          ]
        }
      ]
    },
    {
      "cell_type": "code",
      "source": [
        "df = pd.DataFrame(data=grid_cv_dtm.cv_results_)\n",
        "df.head()"
      ],
      "metadata": {
        "colab": {
          "base_uri": "https://localhost:8080/",
          "height": 531
        },
        "id": "8JO8a7S_O153",
        "outputId": "d5ca8080-e461-453f-b2ed-6af08f557cc6"
      },
      "execution_count": null,
      "outputs": [
        {
          "output_type": "execute_result",
          "data": {
            "text/plain": [
              "   mean_fit_time  std_fit_time  mean_score_time  std_score_time  \\\n",
              "0       0.014206      0.001252         0.003226        0.000176   \n",
              "1       0.013270      0.000071         0.003032        0.000142   \n",
              "2       0.015393      0.003719         0.003387        0.000392   \n",
              "3       0.015771      0.002290         0.003315        0.000180   \n",
              "4       0.014107      0.000795         0.003305        0.000288   \n",
              "\n",
              "  param_criterion param_max_depth param_max_leaf_nodes param_min_samples_leaf  \\\n",
              "0   squared_error               2                    5                     20   \n",
              "1   squared_error               2                    5                     20   \n",
              "2   squared_error               2                    5                     20   \n",
              "3   squared_error               2                    5                     40   \n",
              "4   squared_error               2                    5                     40   \n",
              "\n",
              "  param_min_samples_split                                             params  \\\n",
              "0                      10  {'criterion': 'squared_error', 'max_depth': 2,...   \n",
              "1                      25  {'criterion': 'squared_error', 'max_depth': 2,...   \n",
              "2                      40  {'criterion': 'squared_error', 'max_depth': 2,...   \n",
              "3                      10  {'criterion': 'squared_error', 'max_depth': 2,...   \n",
              "4                      25  {'criterion': 'squared_error', 'max_depth': 2,...   \n",
              "\n",
              "   split0_test_score  split1_test_score  split2_test_score  split3_test_score  \\\n",
              "0           0.392674           0.400027           0.417498           0.399368   \n",
              "1           0.392674           0.400027           0.417498           0.399368   \n",
              "2           0.392674           0.400027           0.417498           0.399368   \n",
              "3           0.392674           0.400027           0.417498           0.399368   \n",
              "4           0.392674           0.400027           0.417498           0.399368   \n",
              "\n",
              "   split4_test_score  mean_test_score  std_test_score  rank_test_score  \n",
              "0           0.417796         0.405472        0.010268              109  \n",
              "1           0.417796         0.405472        0.010268              109  \n",
              "2           0.417796         0.405472        0.010268              109  \n",
              "3           0.417796         0.405472        0.010268              109  \n",
              "4           0.417796         0.405472        0.010268              109  "
            ],
            "text/html": [
              "\n",
              "\n",
              "  <div id=\"df-a2626172-2080-4876-80ca-a96e4258af06\">\n",
              "    <div class=\"colab-df-container\">\n",
              "      <div>\n",
              "<style scoped>\n",
              "    .dataframe tbody tr th:only-of-type {\n",
              "        vertical-align: middle;\n",
              "    }\n",
              "\n",
              "    .dataframe tbody tr th {\n",
              "        vertical-align: top;\n",
              "    }\n",
              "\n",
              "    .dataframe thead th {\n",
              "        text-align: right;\n",
              "    }\n",
              "</style>\n",
              "<table border=\"1\" class=\"dataframe\">\n",
              "  <thead>\n",
              "    <tr style=\"text-align: right;\">\n",
              "      <th></th>\n",
              "      <th>mean_fit_time</th>\n",
              "      <th>std_fit_time</th>\n",
              "      <th>mean_score_time</th>\n",
              "      <th>std_score_time</th>\n",
              "      <th>param_criterion</th>\n",
              "      <th>param_max_depth</th>\n",
              "      <th>param_max_leaf_nodes</th>\n",
              "      <th>param_min_samples_leaf</th>\n",
              "      <th>param_min_samples_split</th>\n",
              "      <th>params</th>\n",
              "      <th>split0_test_score</th>\n",
              "      <th>split1_test_score</th>\n",
              "      <th>split2_test_score</th>\n",
              "      <th>split3_test_score</th>\n",
              "      <th>split4_test_score</th>\n",
              "      <th>mean_test_score</th>\n",
              "      <th>std_test_score</th>\n",
              "      <th>rank_test_score</th>\n",
              "    </tr>\n",
              "  </thead>\n",
              "  <tbody>\n",
              "    <tr>\n",
              "      <th>0</th>\n",
              "      <td>0.014206</td>\n",
              "      <td>0.001252</td>\n",
              "      <td>0.003226</td>\n",
              "      <td>0.000176</td>\n",
              "      <td>squared_error</td>\n",
              "      <td>2</td>\n",
              "      <td>5</td>\n",
              "      <td>20</td>\n",
              "      <td>10</td>\n",
              "      <td>{'criterion': 'squared_error', 'max_depth': 2,...</td>\n",
              "      <td>0.392674</td>\n",
              "      <td>0.400027</td>\n",
              "      <td>0.417498</td>\n",
              "      <td>0.399368</td>\n",
              "      <td>0.417796</td>\n",
              "      <td>0.405472</td>\n",
              "      <td>0.010268</td>\n",
              "      <td>109</td>\n",
              "    </tr>\n",
              "    <tr>\n",
              "      <th>1</th>\n",
              "      <td>0.013270</td>\n",
              "      <td>0.000071</td>\n",
              "      <td>0.003032</td>\n",
              "      <td>0.000142</td>\n",
              "      <td>squared_error</td>\n",
              "      <td>2</td>\n",
              "      <td>5</td>\n",
              "      <td>20</td>\n",
              "      <td>25</td>\n",
              "      <td>{'criterion': 'squared_error', 'max_depth': 2,...</td>\n",
              "      <td>0.392674</td>\n",
              "      <td>0.400027</td>\n",
              "      <td>0.417498</td>\n",
              "      <td>0.399368</td>\n",
              "      <td>0.417796</td>\n",
              "      <td>0.405472</td>\n",
              "      <td>0.010268</td>\n",
              "      <td>109</td>\n",
              "    </tr>\n",
              "    <tr>\n",
              "      <th>2</th>\n",
              "      <td>0.015393</td>\n",
              "      <td>0.003719</td>\n",
              "      <td>0.003387</td>\n",
              "      <td>0.000392</td>\n",
              "      <td>squared_error</td>\n",
              "      <td>2</td>\n",
              "      <td>5</td>\n",
              "      <td>20</td>\n",
              "      <td>40</td>\n",
              "      <td>{'criterion': 'squared_error', 'max_depth': 2,...</td>\n",
              "      <td>0.392674</td>\n",
              "      <td>0.400027</td>\n",
              "      <td>0.417498</td>\n",
              "      <td>0.399368</td>\n",
              "      <td>0.417796</td>\n",
              "      <td>0.405472</td>\n",
              "      <td>0.010268</td>\n",
              "      <td>109</td>\n",
              "    </tr>\n",
              "    <tr>\n",
              "      <th>3</th>\n",
              "      <td>0.015771</td>\n",
              "      <td>0.002290</td>\n",
              "      <td>0.003315</td>\n",
              "      <td>0.000180</td>\n",
              "      <td>squared_error</td>\n",
              "      <td>2</td>\n",
              "      <td>5</td>\n",
              "      <td>40</td>\n",
              "      <td>10</td>\n",
              "      <td>{'criterion': 'squared_error', 'max_depth': 2,...</td>\n",
              "      <td>0.392674</td>\n",
              "      <td>0.400027</td>\n",
              "      <td>0.417498</td>\n",
              "      <td>0.399368</td>\n",
              "      <td>0.417796</td>\n",
              "      <td>0.405472</td>\n",
              "      <td>0.010268</td>\n",
              "      <td>109</td>\n",
              "    </tr>\n",
              "    <tr>\n",
              "      <th>4</th>\n",
              "      <td>0.014107</td>\n",
              "      <td>0.000795</td>\n",
              "      <td>0.003305</td>\n",
              "      <td>0.000288</td>\n",
              "      <td>squared_error</td>\n",
              "      <td>2</td>\n",
              "      <td>5</td>\n",
              "      <td>40</td>\n",
              "      <td>25</td>\n",
              "      <td>{'criterion': 'squared_error', 'max_depth': 2,...</td>\n",
              "      <td>0.392674</td>\n",
              "      <td>0.400027</td>\n",
              "      <td>0.417498</td>\n",
              "      <td>0.399368</td>\n",
              "      <td>0.417796</td>\n",
              "      <td>0.405472</td>\n",
              "      <td>0.010268</td>\n",
              "      <td>109</td>\n",
              "    </tr>\n",
              "  </tbody>\n",
              "</table>\n",
              "</div>\n",
              "      <button class=\"colab-df-convert\" onclick=\"convertToInteractive('df-a2626172-2080-4876-80ca-a96e4258af06')\"\n",
              "              title=\"Convert this dataframe to an interactive table.\"\n",
              "              style=\"display:none;\">\n",
              "\n",
              "  <svg xmlns=\"http://www.w3.org/2000/svg\" height=\"24px\"viewBox=\"0 0 24 24\"\n",
              "       width=\"24px\">\n",
              "    <path d=\"M0 0h24v24H0V0z\" fill=\"none\"/>\n",
              "    <path d=\"M18.56 5.44l.94 2.06.94-2.06 2.06-.94-2.06-.94-.94-2.06-.94 2.06-2.06.94zm-11 1L8.5 8.5l.94-2.06 2.06-.94-2.06-.94L8.5 2.5l-.94 2.06-2.06.94zm10 10l.94 2.06.94-2.06 2.06-.94-2.06-.94-.94-2.06-.94 2.06-2.06.94z\"/><path d=\"M17.41 7.96l-1.37-1.37c-.4-.4-.92-.59-1.43-.59-.52 0-1.04.2-1.43.59L10.3 9.45l-7.72 7.72c-.78.78-.78 2.05 0 2.83L4 21.41c.39.39.9.59 1.41.59.51 0 1.02-.2 1.41-.59l7.78-7.78 2.81-2.81c.8-.78.8-2.07 0-2.86zM5.41 20L4 18.59l7.72-7.72 1.47 1.35L5.41 20z\"/>\n",
              "  </svg>\n",
              "      </button>\n",
              "\n",
              "\n",
              "\n",
              "    <div id=\"df-52ae637c-8f70-4038-9012-ba27beb16051\">\n",
              "      <button class=\"colab-df-quickchart\" onclick=\"quickchart('df-52ae637c-8f70-4038-9012-ba27beb16051')\"\n",
              "              title=\"Suggest charts.\"\n",
              "              style=\"display:none;\">\n",
              "\n",
              "<svg xmlns=\"http://www.w3.org/2000/svg\" height=\"24px\"viewBox=\"0 0 24 24\"\n",
              "     width=\"24px\">\n",
              "    <g>\n",
              "        <path d=\"M19 3H5c-1.1 0-2 .9-2 2v14c0 1.1.9 2 2 2h14c1.1 0 2-.9 2-2V5c0-1.1-.9-2-2-2zM9 17H7v-7h2v7zm4 0h-2V7h2v10zm4 0h-2v-4h2v4z\"/>\n",
              "    </g>\n",
              "</svg>\n",
              "      </button>\n",
              "    </div>\n",
              "\n",
              "<style>\n",
              "  .colab-df-quickchart {\n",
              "    background-color: #E8F0FE;\n",
              "    border: none;\n",
              "    border-radius: 50%;\n",
              "    cursor: pointer;\n",
              "    display: none;\n",
              "    fill: #1967D2;\n",
              "    height: 32px;\n",
              "    padding: 0 0 0 0;\n",
              "    width: 32px;\n",
              "  }\n",
              "\n",
              "  .colab-df-quickchart:hover {\n",
              "    background-color: #E2EBFA;\n",
              "    box-shadow: 0px 1px 2px rgba(60, 64, 67, 0.3), 0px 1px 3px 1px rgba(60, 64, 67, 0.15);\n",
              "    fill: #174EA6;\n",
              "  }\n",
              "\n",
              "  [theme=dark] .colab-df-quickchart {\n",
              "    background-color: #3B4455;\n",
              "    fill: #D2E3FC;\n",
              "  }\n",
              "\n",
              "  [theme=dark] .colab-df-quickchart:hover {\n",
              "    background-color: #434B5C;\n",
              "    box-shadow: 0px 1px 3px 1px rgba(0, 0, 0, 0.15);\n",
              "    filter: drop-shadow(0px 1px 2px rgba(0, 0, 0, 0.3));\n",
              "    fill: #FFFFFF;\n",
              "  }\n",
              "</style>\n",
              "\n",
              "    <script>\n",
              "      async function quickchart(key) {\n",
              "        const containerElement = document.querySelector('#' + key);\n",
              "        const charts = await google.colab.kernel.invokeFunction(\n",
              "            'suggestCharts', [key], {});\n",
              "      }\n",
              "    </script>\n",
              "\n",
              "      <script>\n",
              "\n",
              "function displayQuickchartButton(domScope) {\n",
              "  let quickchartButtonEl =\n",
              "    domScope.querySelector('#df-52ae637c-8f70-4038-9012-ba27beb16051 button.colab-df-quickchart');\n",
              "  quickchartButtonEl.style.display =\n",
              "    google.colab.kernel.accessAllowed ? 'block' : 'none';\n",
              "}\n",
              "\n",
              "        displayQuickchartButton(document);\n",
              "      </script>\n",
              "      <style>\n",
              "    .colab-df-container {\n",
              "      display:flex;\n",
              "      flex-wrap:wrap;\n",
              "      gap: 12px;\n",
              "    }\n",
              "\n",
              "    .colab-df-convert {\n",
              "      background-color: #E8F0FE;\n",
              "      border: none;\n",
              "      border-radius: 50%;\n",
              "      cursor: pointer;\n",
              "      display: none;\n",
              "      fill: #1967D2;\n",
              "      height: 32px;\n",
              "      padding: 0 0 0 0;\n",
              "      width: 32px;\n",
              "    }\n",
              "\n",
              "    .colab-df-convert:hover {\n",
              "      background-color: #E2EBFA;\n",
              "      box-shadow: 0px 1px 2px rgba(60, 64, 67, 0.3), 0px 1px 3px 1px rgba(60, 64, 67, 0.15);\n",
              "      fill: #174EA6;\n",
              "    }\n",
              "\n",
              "    [theme=dark] .colab-df-convert {\n",
              "      background-color: #3B4455;\n",
              "      fill: #D2E3FC;\n",
              "    }\n",
              "\n",
              "    [theme=dark] .colab-df-convert:hover {\n",
              "      background-color: #434B5C;\n",
              "      box-shadow: 0px 1px 3px 1px rgba(0, 0, 0, 0.15);\n",
              "      filter: drop-shadow(0px 1px 2px rgba(0, 0, 0, 0.3));\n",
              "      fill: #FFFFFF;\n",
              "    }\n",
              "  </style>\n",
              "\n",
              "      <script>\n",
              "        const buttonEl =\n",
              "          document.querySelector('#df-a2626172-2080-4876-80ca-a96e4258af06 button.colab-df-convert');\n",
              "        buttonEl.style.display =\n",
              "          google.colab.kernel.accessAllowed ? 'block' : 'none';\n",
              "\n",
              "        async function convertToInteractive(key) {\n",
              "          const element = document.querySelector('#df-a2626172-2080-4876-80ca-a96e4258af06');\n",
              "          const dataTable =\n",
              "            await google.colab.kernel.invokeFunction('convertToInteractive',\n",
              "                                                     [key], {});\n",
              "          if (!dataTable) return;\n",
              "\n",
              "          const docLinkHtml = 'Like what you see? Visit the ' +\n",
              "            '<a target=\"_blank\" href=https://colab.research.google.com/notebooks/data_table.ipynb>data table notebook</a>'\n",
              "            + ' to learn more about interactive tables.';\n",
              "          element.innerHTML = '';\n",
              "          dataTable['output_type'] = 'display_data';\n",
              "          await google.colab.output.renderOutput(dataTable, element);\n",
              "          const docLink = document.createElement('div');\n",
              "          docLink.innerHTML = docLinkHtml;\n",
              "          element.appendChild(docLink);\n",
              "        }\n",
              "      </script>\n",
              "    </div>\n",
              "  </div>\n"
            ]
          },
          "metadata": {},
          "execution_count": 188
        }
      ]
    },
    {
      "cell_type": "code",
      "source": [
        "fig,ax = plt.subplots()\n",
        "sns.pointplot(data=df[['mean_test_score',\n",
        "                           'param_max_leaf_nodes',\n",
        "                           'param_max_depth']],\n",
        "             y='mean_test_score',x='param_max_depth',\n",
        "             hue='param_max_leaf_nodes',ax=ax)\n",
        "ax.set(title=\"Effect of Depth and Leaf Nodes on Model Performance\")"
      ],
      "metadata": {
        "colab": {
          "base_uri": "https://localhost:8080/",
          "height": 490
        },
        "id": "7ftXYKK5PCz1",
        "outputId": "801e13bf-8b9e-48b2-be28-354826850a83"
      },
      "execution_count": null,
      "outputs": [
        {
          "output_type": "execute_result",
          "data": {
            "text/plain": [
              "[Text(0.5, 1.0, 'Effect of Depth and Leaf Nodes on Model Performance')]"
            ]
          },
          "metadata": {},
          "execution_count": 189
        },
        {
          "output_type": "display_data",
          "data": {
            "text/plain": [
              "<Figure size 640x480 with 1 Axes>"
            ],
            "image/png": "[encoded data removed]"
          },
          "metadata": {}
        }
      ]
    },
    {
      "cell_type": "code",
      "source": [
        "#훈련모델평가\n",
        "predicted = grid_cv_dtm.best_estimator_.predict(X_train)\n",
        "residuals = y_train.flatten()-predicted\n",
        "\n",
        "fig, ax = plt.subplots()\n",
        "ax.scatter(y_train.flatten(), residuals)\n",
        "ax.axhline(lw=2,color='black')\n",
        "ax.set_xlabel('Observed')\n",
        "ax.set_ylabel('Residual')\n",
        "plt.show()"
      ],
      "metadata": {
        "colab": {
          "base_uri": "https://localhost:8080/",
          "height": 449
        },
        "id": "2P66_rZ-PNqF",
        "outputId": "340c6c3f-9a62-4e0f-ef47-d9732e42681f"
      },
      "execution_count": null,
      "outputs": [
        {
          "output_type": "display_data",
          "data": {
            "text/plain": [
              "<Figure size 640x480 with 1 Axes>"
            ],
            "image/png": "[encoded data removed]"
          },
          "metadata": {}
        }
      ]
    },
    {
      "cell_type": "code",
      "source": [
        "r2_scores = cross_val_score(grid_cv_dtm.best_estimator_, X_train, y_train, cv=10)\n",
        "mse_scores = cross_val_score(grid_cv_dtm.best_estimator_, X_train, y_train, cv=10,scoring='neg_mean_squared_error')\n",
        "\n",
        "print(\"avg R-squared::{:.3f}\".format(np.mean(r2_scores)))\n",
        "print(\"MSE::{:.3f}\".format(np.mean(mse_scores)))"
      ],
      "metadata": {
        "colab": {
          "base_uri": "https://localhost:8080/"
        },
        "id": "xq_wWe5tPOrV",
        "outputId": "c55e9e27-4a2c-4ff6-c0d6-6896ab519908"
      },
      "execution_count": null,
      "outputs": [
        {
          "output_type": "stream",
          "name": "stdout",
          "text": [
            "avg R-squared::0.836\n",
            "MSE::-5466.263\n"
          ]
        }
      ]
    },
    {
      "cell_type": "code",
      "source": [
        "best_dtm_model = grid_cv_dtm.best_estimator_\n",
        "\n",
        "y_pred = best_dtm_model.predict(X_test)\n",
        "residuals = y_test.flatten() - y_pred\n",
        "\n",
        "\n",
        "r2_score = best_dtm_model.score(X_test,y_test)\n",
        "print(\"R-squared:{:.3f}\".format(r2_score))\n",
        "print(\"MSE: %.2f\" % metrics.mean_squared_error(y_test, y_pred))"
      ],
      "metadata": {
        "colab": {
          "base_uri": "https://localhost:8080/"
        },
        "id": "wdfVCwyvPP5d",
        "outputId": "50dae281-75e8-41a5-c170-ee6c30018156"
      },
      "execution_count": null,
      "outputs": [
        {
          "output_type": "stream",
          "name": "stdout",
          "text": [
            "R-squared:0.846\n",
            "MSE: 4897.24\n"
          ]
        }
      ]
    },
    {
      "cell_type": "code",
      "source": [],
      "metadata": {
        "id": "r7MUjYOMPRI9"
      },
      "execution_count": null,
      "outputs": []
    }
  ]
}